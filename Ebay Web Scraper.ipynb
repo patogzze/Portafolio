{
 "cells": [
  {
   "cell_type": "code",
   "execution_count": 1,
   "id": "d27d0832",
   "metadata": {},
   "outputs": [],
   "source": [
    "# Libraries\n",
    "\n",
    "from bs4 import BeautifulSoup\n",
    "import requests\n",
    "import time\n",
    "import datetime\n",
    "import smtplib # optional but this library will help me to send me emails in the future."
   ]
  },
  {
   "cell_type": "code",
   "execution_count": 2,
   "id": "4bcccbc3",
   "metadata": {},
   "outputs": [
    {
     "name": "stdout",
     "output_type": "stream",
     "text": [
      "\n",
      "           Máscara De Ojo Dormir Con Bluetooth Auriculares Altavoces integrados\n",
      "          \n",
      "\n",
      "                     US $15.03\n",
      "                    \n"
     ]
    }
   ],
   "source": [
    "# Connection to the website\n",
    "\n",
    "URL = 'https://www.ebay.com/itm/393430516694?_trkparms=ispr%3D1&hash=item5b9a4943d6:g:oBcAAOSw2h5g5cWS&amdata=enc%3AAQAGAAACsPYe5NmHp%252B2JMhMi7yxGiTJkPrKr5t53CooMSQt2orsSU8qUIAeVPdz29zRlje3Lg3pRi5oEPYOhEGHuMiP%252F%252FsTYyRVFRv45ptOKOr9fecok742sI4hrewv5Mdf90Hs9zBuM5UgNDTpAajeGA1oBBgh8v5e5wqT%252FBlqkHTeKBhEbuCmIzYlHdDlv%252B8apwnntEy7f5W6E3%252FgUy7F9Cr0YHlY6J%252ByNjakhrLVkCIIZ5tuXPAazIeAfDb28qpkmU%252FnxJNeAqqDWegFUobZ3mqlfMcWdUjNMaswPCTJ9aIhxygga7uo0LtFHZdPozYAXFg4dt%252FTu0%252BLfHeU0ZY3rGsSPctZl9eBL49Nj90%252F8Q2XzHvsbnU4OyX%252BJg2vgUTy57F7Pvzb3xy%252FtkXNjWKAfh8AFGqXq7nKN8dg5uEAu5%252Ff8EYDUm%252F1hcgV9LQYG3v775wPVbkrMC5He%252FrY5o687ChjoRN9yme1iAwHCHBHdZB8D1qf4WZN%252FKAhOlUERB1BUpjTAdBgGEhfq2mw6C4jz2Rw1LY9ay6wjhl83keqSPObk%252FN5QDlFNxcG5xJcMe6R9x6evSw5QDx8TTMfde9mGFBlw9trNTBRafKx5rC8RhAwCKE0UpI5JoZ76IjeP5rIzix5AtoU1y5AH0f3xoxchWFNtldw88GL4HCPcOK%252Fpi8vIFw8CggV5gEKOKzOUBkMWj8wG3nsJA9OQFOJ84yHKPkUFoQ8QH9QqtSqhstwRW96q1BzGPAFZ78ev1APSWubYdLy0g%252B6SPrOcWO1Eit41w5QjX4i5CLwrtaHTs1fttG1q5%252BtBzVlgvJyPaagtfcY%252FDmqTbhNcDDAfAdABQ1silu2Ljhix8Ru9tf%252FdCpl5uGdnMuPp5NwUvbbBsFFnS0Xl85nwHcjRw4T9OKLcKmEQ8%252B4mMdw%253D%7Campid%3APL_CLK%7Cclp%3A2334524'\n",
    "headers = {\"User-Agent\": \"Mozilla/5.0 (Windows NT 10.0; Win64; x64) AppleWebKit/537.36 (KHTML, like Gecko) Chrome/93.0.4577.63 Safari/537.36\"}\n",
    "\n",
    "page = requests.get(URL, headers=headers)\n",
    "\n",
    "soup1 = BeautifulSoup(page.content, \"html.parser\")\n",
    "\n",
    "soup2 = BeautifulSoup(soup1.prettify(), \"html.parser\")\n",
    "\n",
    "title = soup2.find(id=\"vi-lkhdr-itmTitl\").get_text()\n",
    "\n",
    "price = soup2.find(id=\"prcIsum\").get_text()\n",
    "\n",
    "print(title)\n",
    "print(price)\n"
   ]
  },
  {
   "cell_type": "code",
   "execution_count": 3,
   "id": "e5a065a7",
   "metadata": {},
   "outputs": [
    {
     "name": "stdout",
     "output_type": "stream",
     "text": [
      "Máscara De Ojo Dormir Con Bluetooth Auriculares Altavoces integrados\n",
      "S $15.03\n"
     ]
    }
   ],
   "source": [
    "# Cleaning up the data\n",
    "\n",
    "price = price.strip()[1:]\n",
    "title = title.strip()\n",
    "\n",
    "print(title)\n",
    "print(price)"
   ]
  },
  {
   "cell_type": "code",
   "execution_count": 4,
   "id": "46b5e1fa",
   "metadata": {},
   "outputs": [
    {
     "name": "stdout",
     "output_type": "stream",
     "text": [
      "2021-09-04\n"
     ]
    }
   ],
   "source": [
    "import datetime\n",
    "\n",
    "today = datetime.date.today()\n",
    "\n",
    "print(today)"
   ]
  },
  {
   "cell_type": "code",
   "execution_count": null,
   "id": "1fda4714",
   "metadata": {},
   "outputs": [],
   "source": [
    "# Create CSV\n",
    "\n",
    "import csv \n",
    "\n",
    "header = ['Title', 'Price', 'Date']\n",
    "data = [title, price, today]\n",
    "\n",
    "\n",
    "with open('EbayWebScraper.csv', 'w', newline='', encoding='UTF8') as f:\n",
    "    writer = csv.writer(f)\n",
    "    writer.writerow(header)\n",
    "    writer.writerow(data)"
   ]
  },
  {
   "cell_type": "code",
   "execution_count": null,
   "id": "40965845",
   "metadata": {},
   "outputs": [],
   "source": [
    "import pandas as pd\n",
    "\n",
    "df = pd.read_csv(r'C:\\Users\\patog\\OneDrive\\Escritorio\\EbayWebScraper.csv')\n",
    "\n",
    "print(df)"
   ]
  },
  {
   "cell_type": "code",
   "execution_count": null,
   "id": "1ec18c37",
   "metadata": {},
   "outputs": [],
   "source": [
    "#Appending data to the csv\n",
    "\n",
    "with open('EbayWebScraper.csv', 'a+', newline='', encoding='UTF8') as f:\n",
    "    writer = csv.writer(f)\n",
    "    writer.writerow(data)"
   ]
  },
  {
   "cell_type": "code",
   "execution_count": null,
   "id": "38ef53ef",
   "metadata": {},
   "outputs": [],
   "source": [
    "# With this I can check price after 24 hours and inputs data into my CSV\n",
    "\n",
    "while(True):\n",
    "    check_price()\n",
    "    time.sleep(86400) "
   ]
  },
  {
   "cell_type": "code",
   "execution_count": null,
   "id": "8881e0f0",
   "metadata": {},
   "outputs": [],
   "source": [
    "import pandas as pd\n",
    "\n",
    "df = pd.read_csv(r'C:\\Users\\patog\\OneDrive\\Escritorio\\EbayWebScraper.csv')\n",
    "\n",
    "print(df)"
   ]
  },
  {
   "cell_type": "code",
   "execution_count": null,
   "id": "c1202321",
   "metadata": {},
   "outputs": [],
   "source": [
    "def send_mail():\n",
    "    server = smtplib.SMTP_SSL('smtp.gmail.com',465)\n",
    "    server.ehlo()\n",
    "    #server.starttls()\n",
    "    server.ehlo()\n",
    "    server.login('patogzze@gmail.com','xxxxxxxxx') # The xs are my password\n",
    "    \n",
    "    subject = \"The Eye Mask Sleep is below $12!\"\n",
    "    body = \"Pato, This is the moment we have been waiting for. Link here: https://www.ebay.com/itm/393430516694?_trkparms=ispr%3D1&hash=item5b9a4943d6:g:oBcAAOSw2h5g5cWS&amdata=enc%3AAQAGAAACsPYe5NmHp%252B2JMhMi7yxGiTJkPrKr5t53CooMSQt2orsSU8qUIAeVPdz29zRlje3Lg3pRi5oEPYOhEGHuMiP%252F%252FsTYyRVFRv45ptOKOr9fecok742sI4hrewv5Mdf90Hs9zBuM5UgNDTpAajeGA1oBBgh8v5e5wqT%252FBlqkHTeKBhEbuCmIzYlHdDlv%252B8apwnntEy7f5W6E3%252FgUy7F9Cr0YHlY6J%252ByNjakhrLVkCIIZ5tuXPAazIeAfDb28qpkmU%252FnxJNeAqqDWegFUobZ3mqlfMcWdUjNMaswPCTJ9aIhxygga7uo0LtFHZdPozYAXFg4dt%252FTu0%252BLfHeU0ZY3rGsSPctZl9eBL49Nj90%252F8Q2XzHvsbnU4OyX%252BJg2vgUTy57F7Pvzb3xy%252FtkXNjWKAfh8AFGqXq7nKN8dg5uEAu5%252Ff8EYDUm%252F1hcgV9LQYG3v775wPVbkrMC5He%252FrY5o687ChjoRN9yme1iAwHCHBHdZB8D1qf4WZN%252FKAhOlUERB1BUpjTAdBgGEhfq2mw6C4jz2Rw1LY9ay6wjhl83keqSPObk%252FN5QDlFNxcG5xJcMe6R9x6evSw5QDx8TTMfde9mGFBlw9trNTBRafKx5rC8RhAwCKE0UpI5JoZ76IjeP5rIzix5AtoU1y5AH0f3xoxchWFNtldw88GL4HCPcOK%252Fpi8vIFw8CggV5gEKOKzOUBkMWj8wG3nsJA9OQFOJ84yHKPkUFoQ8QH9QqtSqhstwRW96q1BzGPAFZ78ev1APSWubYdLy0g%252B6SPrOcWO1Eit41w5QjX4i5CLwrtaHTs1fttG1q5%252BtBzVlgvJyPaagtfcY%252FDmqTbhNcDDAfAdABQ1silu2Ljhix8Ru9tf%252FdCpl5uGdnMuPp5NwUvbbBsFFnS0Xl85nwHcjRw4T9OKLcKmEQ8%252B4mMdw%253D%7Campid%3APL_CLK%7Cclp%3A2334524\"\n",
    "   \n",
    "    msg = f\"Subject: {subject}\\n\\n{body}\"\n",
    "    \n",
    "    server.sendmail(\n",
    "        'patogzze@gmail.com',\n",
    "        msg\n",
    "     \n",
    "    )"
   ]
  }
 ],
 "metadata": {
  "kernelspec": {
   "display_name": "Python 3",
   "language": "python",
   "name": "python3"
  },
  "language_info": {
   "codemirror_mode": {
    "name": "ipython",
    "version": 3
   },
   "file_extension": ".py",
   "mimetype": "text/x-python",
   "name": "python",
   "nbconvert_exporter": "python",
   "pygments_lexer": "ipython3",
   "version": "3.8.8"
  }
 },
 "nbformat": 4,
 "nbformat_minor": 5
}
