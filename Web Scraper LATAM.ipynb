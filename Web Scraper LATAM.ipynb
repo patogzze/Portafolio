{
 "cells": [
  {
   "cell_type": "code",
   "execution_count": 162,
   "id": "c4ab7a75",
   "metadata": {},
   "outputs": [],
   "source": [
    "import requests\n",
    "from bs4 import BeautifulSoup"
   ]
  },
  {
   "cell_type": "code",
   "execution_count": 47,
   "id": "0c704611",
   "metadata": {},
   "outputs": [],
   "source": [
    "# getting the website url\n",
    "url = 'https://www.latam.com/es_mx/apps/personas/booking?fecha1_dia=24&fecha1_anomes=2021-11&auAvailability=1&ida_vuelta=ida&vuelos_origen=Canc%C3%BAn&from_city1=CUN&vuelos_destino=Nueva%20York&to_city1=LIM&flex=1&vuelos_fecha_salida_ddmmaaaa=26/09/2021&cabina=Y&nadults=1&nchildren=0&ninfants=0&cod_promo=&stopover_outbound_days=0&stopover_inbound_days=0&application=#/'"
   ]
  },
  {
   "cell_type": "code",
   "execution_count": 48,
   "id": "f5fbcad3",
   "metadata": {},
   "outputs": [],
   "source": [
    "agent = {\"User-Agent\":\"Mozilla/5.0\"}\n",
    "r = requests.get(url, headers=agent)"
   ]
  },
  {
   "cell_type": "code",
   "execution_count": 49,
   "id": "b23efc3b",
   "metadata": {},
   "outputs": [
    {
     "data": {
      "text/plain": [
       "200"
      ]
     },
     "execution_count": 49,
     "metadata": {},
     "output_type": "execute_result"
    }
   ],
   "source": [
    "# verifying that everything went well\n",
    "r.status_code"
   ]
  },
  {
   "cell_type": "code",
   "execution_count": 50,
   "id": "02211153",
   "metadata": {},
   "outputs": [],
   "source": [
    "s = BeautifulSoup(r.text, 'lxml')"
   ]
  },
  {
   "cell_type": "code",
   "execution_count": 52,
   "id": "1ee0cfab",
   "metadata": {},
   "outputs": [],
   "source": [
    "from selenium import webdriver"
   ]
  },
  {
   "cell_type": "code",
   "execution_count": 53,
   "id": "e7c396bf",
   "metadata": {},
   "outputs": [],
   "source": [
    "# I opened the driver in a private browsing window\n",
    "options = webdriver.ChromeOptions()\n",
    "options.add_argument('--incognito')\n",
    "driver = webdriver.Chrome(executable_path='C:/chromedriver/chromedriver.exe', options=options )"
   ]
  },
  {
   "cell_type": "code",
   "execution_count": 54,
   "id": "cd51edec",
   "metadata": {},
   "outputs": [],
   "source": [
    "# I brought the site url\n",
    "driver.get(url)"
   ]
  },
  {
   "cell_type": "code",
   "execution_count": 56,
   "id": "b735dedd",
   "metadata": {},
   "outputs": [
    {
     "data": {
      "text/plain": [
       "[<selenium.webdriver.remote.webelement.WebElement (session=\"d5f799f2350e1311b47c0ce022e8bfa7\", element=\"60d65d0b-745f-401b-9b7a-76e03010f127\")>,\n",
       " <selenium.webdriver.remote.webelement.WebElement (session=\"d5f799f2350e1311b47c0ce022e8bfa7\", element=\"ab9e2521-08bb-4cd3-a76b-5e4c592d03a3\")>,\n",
       " <selenium.webdriver.remote.webelement.WebElement (session=\"d5f799f2350e1311b47c0ce022e8bfa7\", element=\"d65196d5-c3ec-453e-9081-81cebc13c9f5\")>,\n",
       " <selenium.webdriver.remote.webelement.WebElement (session=\"d5f799f2350e1311b47c0ce022e8bfa7\", element=\"21e0efe5-3b4f-45e7-b424-599aa067be77\")>,\n",
       " <selenium.webdriver.remote.webelement.WebElement (session=\"d5f799f2350e1311b47c0ce022e8bfa7\", element=\"15009e12-7526-4532-b000-8dcf47504c5c\")>,\n",
       " <selenium.webdriver.remote.webelement.WebElement (session=\"d5f799f2350e1311b47c0ce022e8bfa7\", element=\"9a7777e7-0bf6-4edb-af7a-b3d7627ea72e\")>]"
      ]
     },
     "execution_count": 56,
     "metadata": {},
     "output_type": "execute_result"
    }
   ],
   "source": [
    "# This xpath shows me all the flights\n",
    "vuelos = driver.find_elements_by_xpath('//li[@class=\"flight\"]')\n",
    "vuelos"
   ]
  },
  {
   "cell_type": "code",
   "execution_count": 57,
   "id": "ce5a6477",
   "metadata": {},
   "outputs": [
    {
     "data": {
      "text/plain": [
       "<selenium.webdriver.remote.webelement.WebElement (session=\"d5f799f2350e1311b47c0ce022e8bfa7\", element=\"60d65d0b-745f-401b-9b7a-76e03010f127\")>"
      ]
     },
     "execution_count": 57,
     "metadata": {},
     "output_type": "execute_result"
    }
   ],
   "source": [
    "# I selected the first flight\n",
    "vuelo = vuelos[0]\n",
    "vuelo"
   ]
  },
  {
   "cell_type": "code",
   "execution_count": 58,
   "id": "f4cd24c4",
   "metadata": {},
   "outputs": [
    {
     "data": {
      "text/plain": [
       "'CUN'"
      ]
     },
     "execution_count": 58,
     "metadata": {},
     "output_type": "execute_result"
    }
   ],
   "source": [
    "vuelo.find_element_by_xpath('.//div[@class=\"departure\"]//abbr').text"
   ]
  },
  {
   "cell_type": "code",
   "execution_count": 59,
   "id": "f7c991f0",
   "metadata": {},
   "outputs": [
    {
     "data": {
      "text/plain": [
       "'LIM'"
      ]
     },
     "execution_count": 59,
     "metadata": {},
     "output_type": "execute_result"
    }
   ],
   "source": [
    "vuelo.find_element_by_xpath('.//div[@class=\"arrival\"]//abbr').text"
   ]
  },
  {
   "cell_type": "code",
   "execution_count": 60,
   "id": "5b78217d",
   "metadata": {},
   "outputs": [
    {
     "data": {
      "text/plain": [
       "'16:15'"
      ]
     },
     "execution_count": 60,
     "metadata": {},
     "output_type": "execute_result"
    }
   ],
   "source": [
    "# Getting departure time\n",
    "vuelo.find_element_by_xpath('.//div[@class=\"departure\"]/time').get_attribute('datetime')"
   ]
  },
  {
   "cell_type": "code",
   "execution_count": 61,
   "id": "60294b00",
   "metadata": {},
   "outputs": [
    {
     "data": {
      "text/plain": [
       "'21:25'"
      ]
     },
     "execution_count": 61,
     "metadata": {},
     "output_type": "execute_result"
    }
   ],
   "source": [
    "#Getting the arrival time\n",
    "vuelo.find_element_by_xpath('.//div[@class=\"arrival\"]/time').get_attribute('datetime')"
   ]
  },
  {
   "cell_type": "code",
   "execution_count": 62,
   "id": "1728f006",
   "metadata": {},
   "outputs": [
    {
     "data": {
      "text/plain": [
       "'PT5H10M'"
      ]
     },
     "execution_count": 62,
     "metadata": {},
     "output_type": "execute_result"
    }
   ],
   "source": [
    "#Getting the flight duration\n",
    "vuelo.find_element_by_xpath('.//span[@class=\"duration\"]/time').get_attribute('datetime')"
   ]
  },
  {
   "cell_type": "code",
   "execution_count": 63,
   "id": "63dda363",
   "metadata": {},
   "outputs": [
    {
     "data": {
      "text/plain": [
       "<selenium.webdriver.remote.webelement.WebElement (session=\"d5f799f2350e1311b47c0ce022e8bfa7\", element=\"681df1c4-4a8b-46bb-a427-2cfe87f21210\")>"
      ]
     },
     "execution_count": 63,
     "metadata": {},
     "output_type": "execute_result"
    }
   ],
   "source": [
    "scales_button = vuelo.find_element_by_xpath('.//div[@class=\"flight-summary-stops-description\"]/button')\n",
    "scales_button"
   ]
  },
  {
   "cell_type": "code",
   "execution_count": 64,
   "id": "f76b2dca",
   "metadata": {},
   "outputs": [],
   "source": [
    "#We click on the button to access the scales\n",
    "scales_button.click()"
   ]
  },
  {
   "cell_type": "code",
   "execution_count": 65,
   "id": "396d4465",
   "metadata": {},
   "outputs": [
    {
     "data": {
      "text/plain": [
       "[<selenium.webdriver.remote.webelement.WebElement (session=\"d5f799f2350e1311b47c0ce022e8bfa7\", element=\"caf63b68-6fc8-4cb7-9f96-532389547218\")>]"
      ]
     },
     "execution_count": 65,
     "metadata": {},
     "output_type": "execute_result"
    }
   ],
   "source": [
    "segments = vuelo.find_elements_by_xpath('//div[@class=\"modal-body sc-bZQynM bTTDW\"]/div[@class=\"sc-hZSUBg gfeULV\"]')\n",
    "segments"
   ]
  },
  {
   "cell_type": "code",
   "execution_count": 66,
   "id": "9499141a",
   "metadata": {},
   "outputs": [
    {
     "data": {
      "text/plain": [
       "0"
      ]
     },
     "execution_count": 66,
     "metadata": {},
     "output_type": "execute_result"
    }
   ],
   "source": [
    "#The scale page is divided by segments, we can know the number of scales by the number of segments - 1\n",
    "scales = len(segments) - 1\n",
    "scales"
   ]
  },
  {
   "cell_type": "code",
   "execution_count": 67,
   "id": "7721cb5e",
   "metadata": {},
   "outputs": [],
   "source": [
    "segment = segments[0]"
   ]
  },
  {
   "cell_type": "code",
   "execution_count": 71,
   "id": "f5406e0e",
   "metadata": {},
   "outputs": [],
   "source": [
    "#I close the modal\n",
    "driver.find_element_by_xpath('//div[@class=\"modal-header sc-dnqmqq cGfTsx\"]//button[@class=\"close\"]').click()"
   ]
  },
  {
   "cell_type": "code",
   "execution_count": 72,
   "id": "02262893",
   "metadata": {},
   "outputs": [],
   "source": [
    "#I click on the flight to see the rates\n",
    "vuelo.click()"
   ]
  },
  {
   "cell_type": "code",
   "execution_count": 73,
   "id": "67616e79",
   "metadata": {},
   "outputs": [
    {
     "data": {
      "text/plain": [
       "[<selenium.webdriver.remote.webelement.WebElement (session=\"d5f799f2350e1311b47c0ce022e8bfa7\", element=\"db887ede-12cf-44fe-b197-5be94b4aae3b\")>,\n",
       " <selenium.webdriver.remote.webelement.WebElement (session=\"d5f799f2350e1311b47c0ce022e8bfa7\", element=\"0e2adf15-9a59-4f36-8a75-d36f279bc54f\")>,\n",
       " <selenium.webdriver.remote.webelement.WebElement (session=\"d5f799f2350e1311b47c0ce022e8bfa7\", element=\"0106e327-c348-46eb-92e7-dee18b1c21bb\")>]"
      ]
     },
     "execution_count": 73,
     "metadata": {},
     "output_type": "execute_result"
    }
   ],
   "source": [
    "#I bring the 3 different rates\n",
    "rates = vuelo.find_elements_by_xpath('.//div[@class=\"fares-table-container\"]//tfoot//td[contains(@class, \"fare-\")]')\n",
    "rates"
   ]
  },
  {
   "cell_type": "code",
   "execution_count": 143,
   "id": "521622df",
   "metadata": {},
   "outputs": [],
   "source": [
    "# This function returns a list of dictionaries with the different rates\n",
    "def get_prices(vuelo):\n",
    "    rates = vuelo.find_elements_by_xpath('.//div[@class=\"fares-table-container\"]//tfoot//td[contains(@class, \"fare-\")]')\n",
    "    prices = []\n",
    "    for rate in rates:\n",
    "        name = rate.find_element_by_xpath('.//label').get_attribute('for')\n",
    "        currency = rate.find_element_by_xpath('.//span[@class=\"price\"]/span[@class=\"currency-symbol\"]').text\n",
    "        value = rate.find_element_by_xpath('.//span[@class=\"price\"]/span[@class=\"value\"]').text\n",
    "        dict_rate = {name:{'currency':currency, 'value':value}}\n",
    "        prices.append(dict_rate)\n",
    "    return prices"
   ]
  },
  {
   "cell_type": "code",
   "execution_count": 148,
   "id": "f17a77b3",
   "metadata": {},
   "outputs": [],
   "source": [
    "def get_flight_data(vuelo):\n",
    "    summary = vuelo.find_elements_by_xpath('.//div[@class=\"flight-summary with-duration\"]')\n",
    "    info_scales = []\n",
    "    for i in summary:\n",
    "        origin = vuelo.find_element_by_xpath('.//div[@class=\"departure\"]//abbr').text\n",
    "        dep_time = vuelo.find_element_by_xpath('.//div[@class=\"departure\"]/time').get_attribute('datetime')\n",
    "        dest = vuelo.find_element_by_xpath('.//div[@class=\"arrival\"]//abbr').text\n",
    "        arr_time = vuelo.find_element_by_xpath('.//div[@class=\"arrival\"]/time').get_attribute('datetime')\n",
    "        flight_time = vuelo.find_element_by_xpath('.//span[@class=\"duration\"]/time').get_attribute('datetime')\n",
    "        data_dic = {\n",
    "            'origin':origin,\n",
    "            'dep_time':dep_time,\n",
    "            'dest':dest,\n",
    "            'arr_time':arr_time,\n",
    "            'flight_time':flight_time,\n",
    "        }\n",
    "        info_scales.append(data_dic)\n",
    "    return info_scales\n",
    "    "
   ]
  },
  {
   "cell_type": "code",
   "execution_count": 145,
   "id": "4b162dd2",
   "metadata": {},
   "outputs": [],
   "source": [
    "def get_info(vuelo):\n",
    "    vuelos = driver.find_elements_by_xpath('//li[@class=\"flight\"]')\n",
    "    print(f'There are {len(vuelos)} flights.')\n",
    "    print('Scraping...')\n",
    "    info = []\n",
    "    for vuelo in vuelos:\n",
    "        # I wet the data of each flight\n",
    "        flight_data = get_flight_data(vuelo)\n",
    "        vuelo.click()\n",
    "        prices = get_prices(vuelo)\n",
    "        vuelo.click()\n",
    "        info.append({'prices':prices, 'flight_data':flight_data})\n",
    "    return info"
   ]
  },
  {
   "cell_type": "code",
   "execution_count": 161,
   "id": "cd32ad29",
   "metadata": {},
   "outputs": [],
   "source": [
    "import time"
   ]
  },
  {
   "cell_type": "code",
   "execution_count": 163,
   "id": "eb4abd57",
   "metadata": {},
   "outputs": [
    {
     "name": "stdout",
     "output_type": "stream",
     "text": [
      "There are 6 flights.\n",
      "Scraping...\n"
     ]
    },
    {
     "data": {
      "text/plain": [
       "[{'prices': [{'LIGHT': {'currency': 'US$', 'value': '554'}},\n",
       "   {'PLUS': {'currency': 'US$', 'value': '644'}},\n",
       "   {'TOP': {'currency': 'US$', 'value': '751'}}],\n",
       "  'flight_data': [{'origin': 'CUN',\n",
       "    'dep_time': '16:15',\n",
       "    'dest': 'LIM',\n",
       "    'arr_time': '21:25',\n",
       "    'flight_time': 'PT5H10M'}]},\n",
       " {'prices': [{'LIGHT': {'currency': 'US$', 'value': '554'}},\n",
       "   {'PLUS': {'currency': 'US$', 'value': '644'}},\n",
       "   {'TOP': {'currency': 'US$', 'value': '751'}}],\n",
       "  'flight_data': [{'origin': 'CUN',\n",
       "    'dep_time': '18:20',\n",
       "    'dest': 'LIM',\n",
       "    'arr_time': '23:30',\n",
       "    'flight_time': 'PT5H10M'}]},\n",
       " {'prices': [{'LIGHT': {'currency': 'US$', 'value': '266'}},\n",
       "   {'PLUS': {'currency': 'US$', 'value': '309'}},\n",
       "   {'TOP': {'currency': 'US$', 'value': '360'}}],\n",
       "  'flight_data': [{'origin': 'CUN',\n",
       "    'dep_time': '12:21',\n",
       "    'dest': 'LIM',\n",
       "    'arr_time': '22:25',\n",
       "    'flight_time': 'PT10H4M'}]},\n",
       " {'prices': [{'LIGHT': {'currency': 'US$', 'value': '266'}},\n",
       "   {'PLUS': {'currency': 'US$', 'value': '309'}},\n",
       "   {'TOP': {'currency': 'US$', 'value': '360'}}],\n",
       "  'flight_data': [{'origin': 'CUN',\n",
       "    'dep_time': '11:29',\n",
       "    'dest': 'LIM',\n",
       "    'arr_time': '22:25',\n",
       "    'flight_time': 'PT10H56M'}]},\n",
       " {'prices': [{'LIGHT': {'currency': 'US$', 'value': '266'}},\n",
       "   {'PLUS': {'currency': 'US$', 'value': '309'}},\n",
       "   {'TOP': {'currency': 'US$', 'value': '360'}}],\n",
       "  'flight_data': [{'origin': 'CUN',\n",
       "    'dep_time': '10:58',\n",
       "    'dest': 'LIM',\n",
       "    'arr_time': '22:25',\n",
       "    'flight_time': 'PT11H27M'}]},\n",
       " {'prices': [{'LIGHT': {'currency': 'US$', 'value': '266'}},\n",
       "   {'PLUS': {'currency': 'US$', 'value': '309'}},\n",
       "   {'TOP': {'currency': 'US$', 'value': '360'}}],\n",
       "  'flight_data': [{'origin': 'CUN',\n",
       "    'dep_time': '10:26',\n",
       "    'dest': 'LIM',\n",
       "    'arr_time': '22:25',\n",
       "    'flight_time': 'PT11H59M'}]}]"
      ]
     },
     "execution_count": 163,
     "metadata": {},
     "output_type": "execute_result"
    }
   ],
   "source": [
    "# I opened the driver in a private browsing window\n",
    "options = webdriver.ChromeOptions()\n",
    "options.add_argument('--incognito')\n",
    "driver = webdriver.Chrome(executable_path='C:/chromedriver/chromedriver.exe', options=options )\n",
    "driver.get(url)\n",
    "# I need to introduce a delay\n",
    "time.sleep(16)\n",
    "get_info(driver)"
   ]
  },
  {
   "cell_type": "code",
   "execution_count": 164,
   "id": "7f04bf40",
   "metadata": {},
   "outputs": [],
   "source": [
    "driver.close()"
   ]
  },
  {
   "cell_type": "code",
   "execution_count": null,
   "id": "45ca82c3",
   "metadata": {},
   "outputs": [],
   "source": []
  }
 ],
 "metadata": {
  "kernelspec": {
   "display_name": "Python 3",
   "language": "python",
   "name": "python3"
  },
  "language_info": {
   "codemirror_mode": {
    "name": "ipython",
    "version": 3
   },
   "file_extension": ".py",
   "mimetype": "text/x-python",
   "name": "python",
   "nbconvert_exporter": "python",
   "pygments_lexer": "ipython3",
   "version": "3.8.8"
  }
 },
 "nbformat": 4,
 "nbformat_minor": 5
}
